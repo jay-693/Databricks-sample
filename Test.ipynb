{
 "cells": [
  {
   "cell_type": "code",
   "execution_count": 0,
   "metadata": {
    "application/vnd.databricks.v1+cell": {
     "cellMetadata": {
      "byteLimit": 2048000,
      "rowLimit": 10000
     },
     "inputWidgets": {},
     "nuid": "5994a896-b003-442a-810e-7c4d1db77d15",
     "showTitle": false,
     "tableResultSettingsMap": {},
     "title": ""
    }
   },
   "outputs": [],
   "source": [
    "--%sql\n",
    "INSERT into default.sales_data_50_records values(52,'Kim','Laptop',4,920.78,'2024-02-02','East');\n",
    "SELECT * FROM default.sales_data_50_records;\n",
    "UPDATE default.sales_data_50_records SET Quantity=5 WHERE SaleID=1;\n",
    "SELECT * FROM default.sales_data_50_records;\n",
    "select * from default.sales_data_50_records where SaleDate='2024-02-02';\n",
    "DESCRIBE EXTENDED default.sales_data_50_records;\n"
   ]
  }
 ],
 "metadata": {
  "application/vnd.databricks.v1+notebook": {
   "computePreferences": null,
   "dashboards": [],
   "environmentMetadata": {
    "base_environment": "",
    "environment_version": "4"
   },
   "inputWidgetPreferences": null,
   "language": "sql",
   "notebookMetadata": {
    "pythonIndentUnit": 4
   },
   "notebookName": "Test",
   "widgets": {}
  },
  "language_info": {
   "name": "sql"
  }
 },
 "nbformat": 4,
 "nbformat_minor": 0
}
